{
 "cells": [
  {
   "cell_type": "markdown",
   "metadata": {},
   "source": [
    "# Experimental Julia worksheet"
   ]
  },
  {
   "cell_type": "markdown",
   "metadata": {},
   "source": [
    "Filter out only vowels [scipy lecture 1.2.3 - Control Flow](http://www.scipy-lectures.org/intro/language/control_flow.html):"
   ]
  },
  {
   "cell_type": "code",
   "execution_count": null,
   "metadata": {
    "collapsed": false
   },
   "outputs": [
    {
     "name": "stdout",
     "output_type": "stream",
     "text": [
      "eooaeyou"
     ]
    }
   ],
   "source": [
    "a = \"Hello, how are you ?\"\n",
    "vowels = \"aeiouy\"\n",
    "\n",
    "for c in a\n",
    "    if c in vowels\n",
    "        print(c)\n",
    "    end\n",
    "end"
   ]
  },
  {
   "cell_type": "markdown",
   "metadata": {},
   "source": [
    "[Plotting example](https://juliabyexample.helpmanual.io/#Plotting) using [Winston package](https://github.com/nolta/Winston.jl)"
   ]
  },
  {
   "cell_type": "code",
   "execution_count": null,
   "metadata": {
    "collapsed": false
   },
   "outputs": [],
   "source": [
    "using Winston\n",
    "\n",
    "# plot some data\n",
    "pl = plot(cumsum(rand(500) .- 0.5), \"r\", cumsum(rand(500) .- 0.5), \"b\")\n",
    "# display the plot (not done automatically!)\n",
    "display(pl)\n",
    "savefig(\"winston.png\")"
   ]
  },
  {
   "cell_type": "code",
   "execution_count": null,
   "metadata": {
    "collapsed": false
   },
   "outputs": [],
   "source": []
  }
 ],
 "metadata": {
  "kernelspec": {
   "display_name": "Julia 0.5.0",
   "language": "julia",
   "name": "julia-0.5"
  },
  "language_info": {
   "file_extension": ".jl",
   "mimetype": "application/julia",
   "name": "julia",
   "version": "0.5.0"
  }
 },
 "nbformat": 4,
 "nbformat_minor": 2
}
